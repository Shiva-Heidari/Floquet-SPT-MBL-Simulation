{
 "cells": [
  {
   "cell_type": "code",
   "execution_count": 3,
   "id": "7e92c09b-fc48-4efe-9d0a-87b88beeeab8",
   "metadata": {},
   "outputs": [],
   "source": [
    "import sys\n",
    "import os\n",
    "\n",
    "# Add the current working directory (where spt_utils.py is located) to the Python path\n",
    "sys.path.append(os.getcwd())"
   ]
  },
  {
   "cell_type": "code",
   "execution_count": 4,
   "id": "a2c44145-32ae-4f0d-bb8f-bb9721ca0582",
   "metadata": {},
   "outputs": [
    {
     "ename": "ModuleNotFoundError",
     "evalue": "No module named 'spt_utils'",
     "output_type": "error",
     "traceback": [
      "\u001b[0;31m---------------------------------------------------------------------------\u001b[0m",
      "\u001b[0;31mModuleNotFoundError\u001b[0m                       Traceback (most recent call last)",
      "Cell \u001b[0;32mIn[4], line 1\u001b[0m\n\u001b[0;32m----> 1\u001b[0m \u001b[38;5;28;01mfrom\u001b[39;00m\u001b[38;5;250m \u001b[39m\u001b[38;5;21;01mspt_utils\u001b[39;00m\u001b[38;5;250m \u001b[39m\u001b[38;5;28;01mimport\u001b[39;00m floquet_spt_step, generate_disorder, initialize_state\n",
      "\u001b[0;31mModuleNotFoundError\u001b[0m: No module named 'spt_utils'"
     ]
    }
   ],
   "source": [
    "from spt_utils import floquet_spt_step, generate_disorder, initialize_state"
   ]
  },
  {
   "cell_type": "code",
   "execution_count": 2,
   "id": "783a1aef-b9a1-4fce-b6e6-3b417ae14180",
   "metadata": {},
   "outputs": [],
   "source": [
    "# spt_utils.py\n",
    "# Utility functions for Floquet SPT-MBL simulation\n",
    "\n",
    "from qiskit import QuantumCircuit\n",
    "import numpy as np\n",
    "\n",
    "def floquet_spt_step(n_qubits, h_fields, J):\n",
    "    \"\"\"\n",
    "    Construct a QuantumCircuit implementing one Floquet cycle:\n",
    "    U_F = U2 * U1\n",
    "\n",
    "    - U1 = exp(-i sum h_j Z_j)     [disorder, local fields]\n",
    "    - U2 = exp(-i J sum X_{j-1} Z_j X_{j+1}) [entangling cluster term]\n",
    "\n",
    "    Parameters:\n",
    "    - n_qubits: int — number of qubits (≥3)\n",
    "    - h_fields: array of float — random fields h_j for each site\n",
    "    - J: float — coupling strength for XZX interaction\n",
    "\n",
    "    Returns:\n",
    "    - QuantumCircuit implementing one Floquet step\n",
    "    \"\"\"\n",
    "    qc = QuantumCircuit(n_qubits)\n",
    "\n",
    "    # Disordered Z-field layer (U1)\n",
    "    for j in range(n_qubits):\n",
    "        qc.rz(2 * h_fields[j], j)  # RZ(2h) = exp(-i h Z)\n",
    "\n",
    "    # XZX interaction layer (U2)\n",
    "    for j in range(1, n_qubits - 1):\n",
    "        qc.cx(j - 1, j)\n",
    "        qc.cx(j + 1, j)\n",
    "        qc.rz(2 * J, j)\n",
    "        qc.cx(j + 1, j)\n",
    "        qc.cx(j - 1, j)\n",
    "\n",
    "    return qc\n",
    "\n",
    "def generate_disorder(n_qubits, strength=0.5, seed=None):\n",
    "    \"\"\"\n",
    "    Generate a random disorder field h_j ∈ [-strength, +strength] for each qubit\n",
    "    \n",
    "    Parameters:\n",
    "    - n_qubits: int\n",
    "    - strength: float\n",
    "    - seed: int or None\n",
    "\n",
    "    Returns:\n",
    "    - numpy array of length n_qubits\n",
    "    \"\"\"\n",
    "    if seed is not None:\n",
    "        np.random.seed(seed)\n",
    "    return np.random.uniform(-strength, strength, n_qubits)\n",
    "\n",
    "def initialize_state(n_qubits, config='edge_plus'):\n",
    "    \"\"\"\n",
    "    Create an initial statevector based on the desired configuration.\n",
    "\n",
    "    Options:\n",
    "    - 'plus': all |+⟩\n",
    "    - 'edge_polarized': Z-polarized edge, X-polarized bulk\n",
    "\n",
    "    Returns:\n",
    "    - Statevector object\n",
    "    \"\"\"\n",
    "    from qiskit.quantum_info import Statevector\n",
    "\n",
    "    qc = QuantumCircuit(n_qubits)\n",
    "    if config == 'plus':\n",
    "        qc.h(range(n_qubits))\n",
    "    elif config == 'edge_polarized':\n",
    "        qc.x(0)  # |1⟩ on edge\n",
    "        qc.h(range(1, n_qubits))\n",
    "    else:\n",
    "        raise ValueError(\"Unknown initial state config\")\n",
    "\n",
    "    return Statevector.from_instruction(qc)\n"
   ]
  },
  {
   "cell_type": "code",
   "execution_count": null,
   "id": "db056239-4a63-4031-b436-88e8a3dc2afe",
   "metadata": {},
   "outputs": [],
   "source": []
  }
 ],
 "metadata": {
  "kernelspec": {
   "display_name": "Python (Qiskit Stable)",
   "language": "python",
   "name": "qiskit-stable-env"
  },
  "language_info": {
   "codemirror_mode": {
    "name": "ipython",
    "version": 3
   },
   "file_extension": ".py",
   "mimetype": "text/x-python",
   "name": "python",
   "nbconvert_exporter": "python",
   "pygments_lexer": "ipython3",
   "version": "3.10.18"
  }
 },
 "nbformat": 4,
 "nbformat_minor": 5
}
